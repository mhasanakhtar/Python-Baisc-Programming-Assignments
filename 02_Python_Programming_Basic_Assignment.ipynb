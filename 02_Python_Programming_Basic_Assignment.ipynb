{
 "cells": [
  {
   "cell_type": "markdown",
   "metadata": {},
   "source": [
    "# Python Programming Basic Assignment No.: 2"
   ]
  },
  {
   "cell_type": "markdown",
   "metadata": {},
   "source": [
    "### 1. Write a Python program to convert kilometers to miles?"
   ]
  },
  {
   "cell_type": "code",
   "execution_count": 21,
   "metadata": {},
   "outputs": [
    {
     "name": "stdout",
     "output_type": "stream",
     "text": [
      "Enter distance in Kilometers : 5\n",
      "5 Kilometer is equal to 3 miles\n"
     ]
    }
   ],
   "source": [
    "# To take Kilometer input from the user\n",
    "km = int(input('Enter distance in Kilometers : '))\n",
    "\n",
    "# Converting Kilometer into Miles\n",
    "miles = round(0.62137 * km)\n",
    "\n",
    "# Disply the Conversion\n",
    "print(f'{km} Kilometer is equal to {miles} miles') "
   ]
  },
  {
   "cell_type": "markdown",
   "metadata": {},
   "source": [
    "### 2. Write a Python program to convert Celsius to Fahrenheit?"
   ]
  },
  {
   "cell_type": "code",
   "execution_count": 2,
   "metadata": {},
   "outputs": [
    {
     "name": "stdout",
     "output_type": "stream",
     "text": [
      "Enter Temperature in Celsius : 50\n",
      "50°C is equal to 122°F\n"
     ]
    }
   ],
   "source": [
    "# To take Celsius input from the user\n",
    "Celsius = int(input('Enter Temperature in Celsius : '))\n",
    "\n",
    "# Converting Celcius into Fahrenheit\n",
    "Fahrenheit = round((Celsius * 9/5) + 32)\n",
    "\n",
    "# Disply the Conversion\n",
    "print(f'{Celsius}°C is equal to {Fahrenheit}°F') "
   ]
  },
  {
   "cell_type": "markdown",
   "metadata": {},
   "source": [
    "### 3. Write a Python program to display calendar?"
   ]
  },
  {
   "cell_type": "code",
   "execution_count": 27,
   "metadata": {},
   "outputs": [
    {
     "name": "stdout",
     "output_type": "stream",
     "text": [
      "Enter year : 2021\n",
      "Enter month : 12\n",
      "   December 2021\n",
      "Mo Tu We Th Fr Sa Su\n",
      "       1  2  3  4  5\n",
      " 6  7  8  9 10 11 12\n",
      "13 14 15 16 17 18 19\n",
      "20 21 22 23 24 25 26\n",
      "27 28 29 30 31\n",
      "\n"
     ]
    }
   ],
   "source": [
    "# importing calendar module\n",
    "import calendar\n",
    "\n",
    "# To take month and year inputs from the user\n",
    "\n",
    "yy = int(input(\"Enter year : \"))\n",
    "mm = int(input('Enter month : '))\n",
    "\n",
    "# Disply the Calendar\n",
    "print(calendar.month(yy,mm))"
   ]
  },
  {
   "cell_type": "markdown",
   "metadata": {},
   "source": [
    "### 4. Write a Python program to solve quadratic equation?"
   ]
  },
  {
   "cell_type": "code",
   "execution_count": 22,
   "metadata": {},
   "outputs": [
    {
     "name": "stdout",
     "output_type": "stream",
     "text": [
      "coeffecient of x square :1\n",
      "coeffecient of x :25\n",
      "Constant :-5\n",
      "First Root: 0.1984250992002945\n",
      "Second Root: -25.198425099200293\n"
     ]
    }
   ],
   "source": [
    "# importing math module\n",
    "import math\n",
    "\n",
    "# To take inputs from the user\n",
    "a = int(input('coeffecient of x square :'))\n",
    "b = int(input('coeffecient of x :'))\n",
    "c = int(input('Constant :'))\n",
    "\n",
    "root1 = (-b+ math.sqrt(b**2-4*a*c))/2*a\n",
    "print(f'First Root: {root1}')\n",
    "\n",
    "root2 = (-b- math.sqrt(b**2-4*a*c))/2*a\n",
    "print(f'Second Root: {root2}')"
   ]
  },
  {
   "cell_type": "markdown",
   "metadata": {},
   "source": [
    "### 5. Write a Python program to swap two variables without temp variable?"
   ]
  },
  {
   "cell_type": "code",
   "execution_count": 5,
   "metadata": {},
   "outputs": [
    {
     "name": "stdout",
     "output_type": "stream",
     "text": [
      "Value of x before swap: Hasan\n",
      "Value of y before swap: Abdulwali\n",
      "Value of x after swap: Abdulwali\n",
      "Value of y after swap: Hasan\n"
     ]
    }
   ],
   "source": [
    "x = 'Hasan'\n",
    "y = 'Abdulwali'\n",
    "\n",
    "print(f'Value of x before swap: {x}')\n",
    "print(f'Value of y before swap: {y}')\n",
    "\n",
    "y,x = x,y\n",
    "\n",
    "print(f'Value of x after swap: {x}')\n",
    "print(f'Value of y after swap: {y}')"
   ]
  },
  {
   "cell_type": "code",
   "execution_count": null,
   "metadata": {},
   "outputs": [],
   "source": []
  }
 ],
 "metadata": {
  "kernelspec": {
   "display_name": "Python 3",
   "language": "python",
   "name": "python3"
  },
  "language_info": {
   "codemirror_mode": {
    "name": "ipython",
    "version": 3
   },
   "file_extension": ".py",
   "mimetype": "text/x-python",
   "name": "python",
   "nbconvert_exporter": "python",
   "pygments_lexer": "ipython3",
   "version": "3.8.5"
  }
 },
 "nbformat": 4,
 "nbformat_minor": 4
}
