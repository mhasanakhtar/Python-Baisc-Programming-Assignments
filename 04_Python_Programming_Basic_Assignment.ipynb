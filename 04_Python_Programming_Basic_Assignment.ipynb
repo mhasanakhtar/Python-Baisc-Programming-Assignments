{
 "cells": [
  {
   "cell_type": "markdown",
   "metadata": {},
   "source": [
    "# Python Programming Basic Assignment No.: 4"
   ]
  },
  {
   "cell_type": "markdown",
   "metadata": {},
   "source": [
    "### 1. Write a Python Program to Find the Factorial of a Number?"
   ]
  },
  {
   "cell_type": "code",
   "execution_count": 3,
   "metadata": {},
   "outputs": [
    {
     "name": "stdout",
     "output_type": "stream",
     "text": [
      "Enter a number: 10\n",
      "Factorial of the given number is 3628800\n"
     ]
    }
   ],
   "source": [
    "# To Take Input from user \n",
    "a = int(input('Enter a number: '))\n",
    "factorial = 1\n",
    "while a!=0:\n",
    "    factorial = factorial*a\n",
    "    a=a-1\n",
    "    \n",
    "print(f'Factorial of the given number is {factorial}')"
   ]
  },
  {
   "cell_type": "code",
   "execution_count": 7,
   "metadata": {},
   "outputs": [
    {
     "name": "stdout",
     "output_type": "stream",
     "text": [
      "Enter a number: 5\n",
      "Factorial of 5 is 120\n"
     ]
    }
   ],
   "source": [
    "a = int(input('Enter a number: '))\n",
    "\n",
    "factorial = 1\n",
    "\n",
    "if a < 0:\n",
    "    print('Factorial of Negative Integer is not be Computed')\n",
    "\n",
    "elif a ==0:\n",
    "    print('Factorial of 0 is 1')\n",
    "\n",
    "else:\n",
    "    for num in range(1, a+1):\n",
    "        factorial = factorial * num\n",
    "    print(f'Factorial of {a} is {factorial}')"
   ]
  },
  {
   "cell_type": "markdown",
   "metadata": {},
   "source": [
    "### 2. Write a Python Program to Display the multiplication Table?"
   ]
  },
  {
   "cell_type": "code",
   "execution_count": 1,
   "metadata": {},
   "outputs": [
    {
     "name": "stdout",
     "output_type": "stream",
     "text": [
      "13\n",
      "13 x 1 = 13\n",
      "13 x 2 = 26\n",
      "13 x 3 = 39\n",
      "13 x 4 = 52\n",
      "13 x 5 = 65\n",
      "13 x 6 = 78\n",
      "13 x 7 = 91\n",
      "13 x 8 = 104\n",
      "13 x 9 = 117\n",
      "13 x 10 = 130\n"
     ]
    }
   ],
   "source": [
    "a = int(input())\n",
    "for i in range(1,11):\n",
    "  print(f'{a} x {i} = {a*i}')"
   ]
  },
  {
   "cell_type": "markdown",
   "metadata": {},
   "source": [
    "### 3. Write a Python Program to Print the Fibonacci sequence?"
   ]
  },
  {
   "cell_type": "code",
   "execution_count": 26,
   "metadata": {},
   "outputs": [
    {
     "name": "stdout",
     "output_type": "stream",
     "text": [
      "3\n",
      "5\n",
      "8\n",
      "13\n",
      "21\n",
      "34\n",
      "55\n",
      "89\n",
      "144\n",
      "233\n"
     ]
    }
   ],
   "source": [
    "a = 1\n",
    "b = 2\n",
    "\n",
    "for num in range(10):\n",
    "    b,a = a+b,b\n",
    "    \n",
    "    print(b)"
   ]
  },
  {
   "cell_type": "markdown",
   "metadata": {},
   "source": [
    "### 4. Write a Python Program to Check Armstrong Number?"
   ]
  },
  {
   "cell_type": "code",
   "execution_count": 2,
   "metadata": {},
   "outputs": [
    {
     "name": "stdout",
     "output_type": "stream",
     "text": [
      "153\n",
      "153\n"
     ]
    }
   ],
   "source": [
    "a = input()\n",
    "\n",
    "list1 = []\n",
    "for i in a:\n",
    "  list1.append(int(i)**3)\n",
    "print(sum(list1))"
   ]
  },
  {
   "cell_type": "markdown",
   "metadata": {},
   "source": [
    "### 5. Write a Python Program to Find Armstrong Number in an Interval?"
   ]
  },
  {
   "cell_type": "code",
   "execution_count": 7,
   "metadata": {},
   "outputs": [
    {
     "name": "stdout",
     "output_type": "stream",
     "text": [
      "Got Armstrong Number 1\n",
      "Got Armstrong Number 153\n",
      "Got Armstrong Number 370\n",
      "Got Armstrong Number 371\n",
      "Got Armstrong Number 407\n"
     ]
    }
   ],
   "source": [
    "for i in range(1,1000):\n",
    "  sum = 0\n",
    "  for j in str(i):\n",
    "    #print(j)\n",
    "    sum = sum+(int(j)**3)\n",
    "  #print(sum)\n",
    "  if sum == i:\n",
    "    print('Got Armstrong Number',sum)"
   ]
  },
  {
   "cell_type": "markdown",
   "metadata": {},
   "source": [
    "### 6. Write a Python Program to Find the Sum of Natural Numbers?"
   ]
  },
  {
   "cell_type": "code",
   "execution_count": 9,
   "metadata": {},
   "outputs": [
    {
     "name": "stdout",
     "output_type": "stream",
     "text": [
      "Enter a number: 10\n",
      "sum of first 10 natural number is 55.0\n"
     ]
    }
   ],
   "source": [
    "# To Take Input from user \n",
    "n = int(input('Enter a number: '))\n",
    "\n",
    "print(f'sum of first {n} natural number is {n*(n+1)*0.5}')"
   ]
  },
  {
   "cell_type": "code",
   "execution_count": null,
   "metadata": {},
   "outputs": [],
   "source": []
  }
 ],
 "metadata": {
  "kernelspec": {
   "display_name": "Python 3",
   "language": "python",
   "name": "python3"
  },
  "language_info": {
   "codemirror_mode": {
    "name": "ipython",
    "version": 3
   },
   "file_extension": ".py",
   "mimetype": "text/x-python",
   "name": "python",
   "nbconvert_exporter": "python",
   "pygments_lexer": "ipython3",
   "version": "3.8.5"
  }
 },
 "nbformat": 4,
 "nbformat_minor": 4
}
